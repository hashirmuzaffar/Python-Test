{
 "cells": [
  {
   "cell_type": "markdown",
   "metadata": {},
   "source": [
    "Explain the difference between for and while and doWhile loops in Python. Provide examples of when to use each.\n",
    "# Loops in Python\n",
    "-For loop is used when we have a range given or or a iteratable object such as list or str or set to iterate through\n",
    "\n",
    "an example of using for loop would be we are given a list of ints and we want to get another list of squares of the elemtns in the int list\n",
    "-while loop works while the condition given is true. for example x<10 so the loop will go unless the value of x increases from 10 or is equal to 10\n",
    "\n",
    "arr = [1,2,3,4,5,6,6]\n",
    "for i in arr:\n",
    "    print(i)\n",
    "\n",
    "an exmaple for this would be when we want to do out loop until a set condition, such as when we are looking for a value in array and we want to stop when we found it, so it would check if found is true before every interation and stop as soon as the element is found.\n",
    "\n",
    "-DoWhile or Repeat until work until the condition given is true, for example dowhile the value of x is not equal to 10, unlike while loop the condition is tested after the iteration\n",
    "\n",
    "found = False\n",
    "key = 3\n",
    "index = 0\n",
    "while(index<len(arr)):\n",
    "    if arr[index] == key:\n",
    "        found =  True\n",
    "    index+=1\n",
    "print(found)\n",
    "\n",
    "DoWhile loops are useful when we want one iteration to begin intially, it checks for condtion at end\n",
    "found = False\n",
    "key = 3\n",
    "index = 0\n",
    "#do-while loop\n",
    "do{\n",
    "if arr[index] == key:\n",
    "        found =  True\n",
    "    index+=1;\n",
    "}\n",
    "while(index<len(arr));\n",
    "print(found)"
   ]
  },
  {
   "cell_type": "code",
   "execution_count": 5,
   "metadata": {},
   "outputs": [
    {
     "name": "stdout",
     "output_type": "stream",
     "text": [
      "Iter no 0\n",
      "Iter no 1\n",
      "Iter no 2\n",
      "Iter no 3\n",
      "Iter no 4\n",
      "Iter no 5\n",
      "Iter no 6\n",
      "True\n"
     ]
    }
   ],
   "source": [
    "\n",
    "    \n",
    "\n",
    "\n",
    "    \n"
   ]
  }
 ],
 "metadata": {
  "kernelspec": {
   "display_name": "Python 3",
   "language": "python",
   "name": "python3"
  },
  "language_info": {
   "codemirror_mode": {
    "name": "ipython",
    "version": 3
   },
   "file_extension": ".py",
   "mimetype": "text/x-python",
   "name": "python",
   "nbconvert_exporter": "python",
   "pygments_lexer": "ipython3",
   "version": "3.10.2"
  }
 },
 "nbformat": 4,
 "nbformat_minor": 2
}
