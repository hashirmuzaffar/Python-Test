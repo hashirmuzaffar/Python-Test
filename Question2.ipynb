{
 "cells": [
  {
   "cell_type": "markdown",
   "metadata": {},
   "source": [
    "Explain the difference between for and while and doWhile loops in Python. Provide examples of when to use each.\n",
    "# Loops in Python\n",
    "# For loop is used when we have a range given or or a iteratable object such as list or str or set to iterate through\n",
    "\n",
    "an example of using for loop would be we are given a list of ints and we want to get another list of squares of the elemtns in the int list\n",
    "\n",
    "# while loop works while the condition given is true. for example x<10 so the loop will go unless the value of x increases from 10 or is equal to 10\n",
    "\n",
    "an exmaple for this would be when we want to do out loop until a set condition, such as when we are looking for a value in array and we want to stop when we found it, so it would check if found is true before every interation and stop as soon as the element is found.\n",
    "\n",
    "# DoWhile or Repeat until work until the condition given is true, for example dowhile the value of x is not equal to 10, unlike while loop the condition is tested after the iteration\n",
    "\n",
    "DoWhile loops are useful when we want one iteration to begin intially, it checks for condtion at end"
   ]
  },
  {
   "cell_type": "code",
   "execution_count": null,
   "metadata": {},
   "outputs": [],
   "source": []
  }
 ],
 "metadata": {
  "language_info": {
   "name": "python"
  }
 },
 "nbformat": 4,
 "nbformat_minor": 2
}
