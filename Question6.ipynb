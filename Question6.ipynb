{
 "cells": [
  {
   "cell_type": "markdown",
   "metadata": {},
   "source": [
    "Explain and demonstrate the use of Python decorators, including a custom decorator that measures the execution time of a function.\n",
    "import time\n",
    "from functools import wraps\n",
    "def timer_decorator(func):\n",
    "@wraps(func)\n",
    "    def wrapper_timer(*args, **kwargs):\n",
    "        start_time = time.time()\n",
    "        value = func(*args, **kwargs)\n",
    "        end_time = time.time()\n",
    "        run_time = end_time - start_time\n",
    "        print(f\"Finished {func.__name__!r} in\n"
   ]
  },
  {
   "cell_type": "markdown",
   "metadata": {},
   "source": [
    "Decorates are used in python to attch funcionalities to existing functions. I think of it as triggers in SQL"
   ]
  },
  {
   "cell_type": "code",
   "execution_count": 40,
   "metadata": {},
   "outputs": [],
   "source": [
    "class A:\n",
    "    def __int__(self,first_name,last_name):\n",
    "        self.first_name = first_name\n",
    "        self.last_name = last_name\n",
    "\n",
    "    @property\n",
    "    def fulname():\n",
    "        return f\"{self.first_name} {self.last_name}\"\n",
    "    \n",
    "    @fulname.setter\n",
    "    def setfulname(name):\n",
    "        self.first_name, self.last_name = name.split()\n",
    "\n"
   ]
  }
 ],
 "metadata": {
  "kernelspec": {
   "display_name": "Python 3",
   "language": "python",
   "name": "python3"
  },
  "language_info": {
   "codemirror_mode": {
    "name": "ipython",
    "version": 3
   },
   "file_extension": ".py",
   "mimetype": "text/x-python",
   "name": "python",
   "nbconvert_exporter": "python",
   "pygments_lexer": "ipython3",
   "version": "3.10.2"
  }
 },
 "nbformat": 4,
 "nbformat_minor": 2
}
