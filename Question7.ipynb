{
 "cells": [
  {
   "cell_type": "markdown",
   "metadata": {},
   "source": [
    "Write a context manager that handles file operations, ensuring that files are properly opened and closed, even in cases of exceptions.\n"
   ]
  },
  {
   "cell_type": "code",
   "execution_count": 19,
   "metadata": {},
   "outputs": [],
   "source": [
    "import os\n",
    "def file_exists(file_path):\n",
    "    return os.path.isfile(file_path)"
   ]
  },
  {
   "cell_type": "code",
   "execution_count": null,
   "metadata": {},
   "outputs": [],
   "source": [
    "cmd = input(\"READ, OR WRITE\")"
   ]
  },
  {
   "cell_type": "code",
   "execution_count": null,
   "metadata": {},
   "outputs": [],
   "source": [
    "path = 'file1.txt'"
   ]
  },
  {
   "cell_type": "code",
   "execution_count": 17,
   "metadata": {},
   "outputs": [],
   "source": [
    "text = \"Write this to file\""
   ]
  },
  {
   "cell_type": "code",
   "execution_count": 23,
   "metadata": {},
   "outputs": [
    {
     "name": "stdout",
     "output_type": "stream",
     "text": [
      "Append operation successful\n"
     ]
    }
   ],
   "source": [
    "\n",
    "\n",
    "if cmd == 'READ':\n",
    "    try:\n",
    "        with open(path,'r') as file1:\n",
    "            data = file1.read().splitlines()\n",
    "            print(data)\n",
    "    except FileNotFoundError:\n",
    "        print(\"File not found\")\n",
    "    finally:\n",
    "        file1.close()\n",
    "elif cmd == 'WRITE':\n",
    "    if file_exists(path):\n",
    "        try:\n",
    "            with open(path,'w') as file1:\n",
    "                file1.write(text)\n",
    "                print(\"Append operation successful\")\n",
    "        except FileNotFoundError:\n",
    "            print(\"File not found\")\n",
    "        finally:\n",
    "            file1.close()\n",
    "\n",
    "    else:\n",
    "        try:\n",
    "            with open(path,'a') as file1:\n",
    "                file1.appedn(text)\n",
    "                print(\"Write operation successful\")\n",
    "        except FileNotFoundError:\n",
    "            print(\"File not found\")\n",
    "        finally:\n",
    "            file1.close()\n",
    "\n"
   ]
  },
  {
   "cell_type": "code",
   "execution_count": null,
   "metadata": {},
   "outputs": [],
   "source": []
  },
  {
   "cell_type": "code",
   "execution_count": null,
   "metadata": {},
   "outputs": [],
   "source": []
  }
 ],
 "metadata": {
  "kernelspec": {
   "display_name": "Python 3",
   "language": "python",
   "name": "python3"
  },
  "language_info": {
   "codemirror_mode": {
    "name": "ipython",
    "version": 3
   },
   "file_extension": ".py",
   "mimetype": "text/x-python",
   "name": "python",
   "nbconvert_exporter": "python",
   "pygments_lexer": "ipython3",
   "version": "3.8.19"
  }
 },
 "nbformat": 4,
 "nbformat_minor": 2
}
